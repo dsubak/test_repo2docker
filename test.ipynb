{
 "cells": [
  {
   "cell_type": "code",
   "execution_count": 1,
   "id": "7d7eb9e6-25b6-4858-bec4-d2df73d6d537",
   "metadata": {},
   "outputs": [
    {
     "name": "stdout",
     "output_type": "stream",
     "text": [
      "Requirement already satisfied: numpy in ./.virtualenvs/jupyterhub/lib/python3.13/site-packages (2.3.2)\n",
      "\n",
      "\u001b[1m[\u001b[0m\u001b[34;49mnotice\u001b[0m\u001b[1;39;49m]\u001b[0m\u001b[39;49m A new release of pip is available: \u001b[0m\u001b[31;49m25.1.1\u001b[0m\u001b[39;49m -> \u001b[0m\u001b[32;49m25.2\u001b[0m\n",
      "\u001b[1m[\u001b[0m\u001b[34;49mnotice\u001b[0m\u001b[1;39;49m]\u001b[0m\u001b[39;49m To update, run: \u001b[0m\u001b[32;49mpip install --upgrade pip\u001b[0m\n",
      "Note: you may need to restart the kernel to use updated packages.\n"
     ]
    }
   ],
   "source": [
    "%pip install numpy # %pip install installs within the current kernel"
   ]
  },
  {
   "cell_type": "code",
   "execution_count": 2,
   "id": "b5889119-c2b6-4a68-b446-3ca36e443369",
   "metadata": {},
   "outputs": [],
   "source": [
    "import numpy"
   ]
  },
  {
   "cell_type": "code",
   "execution_count": 2,
   "id": "fb31193e-6c63-4b5b-a767-a78d60ab2bb3",
   "metadata": {
    "editable": true,
    "slideshow": {
     "slide_type": ""
    },
    "tags": []
   },
   "outputs": [
    {
     "name": "stdout",
     "output_type": "stream",
     "text": [
      "alembic==1.16.4\n",
      "annotated-types==0.7.0\n",
      "anyio==4.10.0\n",
      "appnope==0.1.4\n",
      "argon2-cffi==25.1.0\n",
      "argon2-cffi-bindings==25.1.0\n",
      "arrow==1.3.0\n",
      "asttokens==3.0.0\n",
      "async-lru==2.0.5\n",
      "attrs==25.3.0\n",
      "babel==2.17.0\n",
      "beautifulsoup4==4.13.4\n",
      "bleach==6.2.0\n",
      "certifi==2025.8.3\n",
      "certipy==0.2.2\n",
      "cffi==1.17.1\n",
      "charset-normalizer==3.4.2\n",
      "comm==0.2.3\n",
      "cryptography==45.0.6\n",
      "debugpy==1.8.16\n",
      "decorator==5.2.1\n",
      "defusedxml==0.7.1\n",
      "executing==2.2.0\n",
      "fastjsonschema==2.21.1\n",
      "fqdn==1.5.1\n",
      "h11==0.16.0\n",
      "httpcore==1.0.9\n",
      "httpx==0.28.1\n",
      "idna==3.10\n",
      "ipykernel==6.30.1\n",
      "ipython==9.4.0\n",
      "ipython_pygments_lexers==1.1.1\n",
      "isoduration==20.11.0\n",
      "jedi==0.19.2\n",
      "Jinja2==3.1.6\n",
      "json5==0.12.0\n",
      "jsonpointer==3.0.0\n",
      "jsonschema==4.25.0\n",
      "jsonschema-specifications==2025.4.1\n",
      "jupyter-events==0.12.0\n",
      "jupyter-lsp==2.2.6\n",
      "jupyter_client==8.6.3\n",
      "jupyter_core==5.8.1\n",
      "jupyter_server==2.16.0\n",
      "jupyter_server_terminals==0.5.3\n",
      "jupyterhub==5.3.0\n",
      "jupyterlab==4.4.5\n",
      "jupyterlab_pygments==0.3.0\n",
      "jupyterlab_server==2.27.3\n",
      "lark==1.2.2\n",
      "Mako==1.3.10\n",
      "MarkupSafe==3.0.2\n",
      "matplotlib-inline==0.1.7\n",
      "mistune==3.1.3\n",
      "nbclient==0.10.2\n",
      "nbconvert==7.16.6\n",
      "nbformat==5.10.4\n",
      "nest-asyncio==1.6.0\n",
      "notebook==7.4.5\n",
      "notebook_shim==0.2.4\n",
      "numpy==2.3.2\n",
      "oauthlib==3.3.1\n",
      "overrides==7.7.0\n",
      "packaging==25.0\n",
      "pamela==1.2.0\n",
      "pandocfilters==1.5.1\n",
      "parso==0.8.4\n",
      "pexpect==4.9.0\n",
      "platformdirs==4.3.8\n",
      "prometheus_client==0.22.1\n",
      "prompt_toolkit==3.0.51\n",
      "psutil==7.0.0\n",
      "ptyprocess==0.7.0\n",
      "pure_eval==0.2.3\n",
      "pycparser==2.22\n",
      "pydantic==2.11.7\n",
      "pydantic_core==2.33.2\n",
      "Pygments==2.19.2\n",
      "python-dateutil==2.9.0.post0\n",
      "python-json-logger==3.3.0\n",
      "PyYAML==6.0.2\n",
      "pyzmq==27.0.1\n",
      "referencing==0.36.2\n",
      "requests==2.32.4\n",
      "rfc3339-validator==0.1.4\n",
      "rfc3986-validator==0.1.1\n",
      "rfc3987-syntax==1.1.0\n",
      "rpds-py==0.27.0\n",
      "Send2Trash==1.8.3\n",
      "setuptools==80.9.0\n",
      "six==1.17.0\n",
      "sniffio==1.3.1\n",
      "soupsieve==2.7\n",
      "SQLAlchemy==2.0.42\n",
      "stack-data==0.6.3\n",
      "terminado==0.18.1\n",
      "tinycss2==1.4.0\n",
      "tornado==6.5.1\n",
      "traitlets==5.14.3\n",
      "types-python-dateutil==2.9.0.20250708\n",
      "typing-inspection==0.4.1\n",
      "typing_extensions==4.14.1\n",
      "uri-template==1.3.0\n",
      "urllib3==2.5.0\n",
      "wcwidth==0.2.13\n",
      "webcolors==24.11.1\n",
      "webencodings==0.5.1\n",
      "websocket-client==1.8.0\n",
      "Note: you may need to restart the kernel to use updated packages.\n"
     ]
    }
   ],
   "source": [
    "%pip freeze"
   ]
  },
  {
   "cell_type": "code",
   "execution_count": 3,
   "id": "bda1806e-1aa2-45eb-acb5-652d540ae408",
   "metadata": {},
   "outputs": [
    {
     "name": "stdout",
     "output_type": "stream",
     "text": [
      "Collecting gh-scoped-creds\n",
      "  Downloading gh_scoped_creds-4.1-py3-none-any.whl.metadata (7.5 kB)\n",
      "Requirement already satisfied: requests in ./.virtualenvs/jupyterhub/lib/python3.13/site-packages (from gh-scoped-creds) (2.32.4)\n",
      "Requirement already satisfied: charset_normalizer<4,>=2 in ./.virtualenvs/jupyterhub/lib/python3.13/site-packages (from requests->gh-scoped-creds) (3.4.2)\n",
      "Requirement already satisfied: idna<4,>=2.5 in ./.virtualenvs/jupyterhub/lib/python3.13/site-packages (from requests->gh-scoped-creds) (3.10)\n",
      "Requirement already satisfied: urllib3<3,>=1.21.1 in ./.virtualenvs/jupyterhub/lib/python3.13/site-packages (from requests->gh-scoped-creds) (2.5.0)\n",
      "Requirement already satisfied: certifi>=2017.4.17 in ./.virtualenvs/jupyterhub/lib/python3.13/site-packages (from requests->gh-scoped-creds) (2025.8.3)\n",
      "Downloading gh_scoped_creds-4.1-py3-none-any.whl (7.4 kB)\n",
      "Installing collected packages: gh-scoped-creds\n",
      "Successfully installed gh-scoped-creds-4.1\n",
      "\n",
      "\u001b[1m[\u001b[0m\u001b[34;49mnotice\u001b[0m\u001b[1;39;49m]\u001b[0m\u001b[39;49m A new release of pip is available: \u001b[0m\u001b[31;49m25.1.1\u001b[0m\u001b[39;49m -> \u001b[0m\u001b[32;49m25.2\u001b[0m\n",
      "\u001b[1m[\u001b[0m\u001b[34;49mnotice\u001b[0m\u001b[1;39;49m]\u001b[0m\u001b[39;49m To update, run: \u001b[0m\u001b[32;49mpip install --upgrade pip\u001b[0m\n",
      "Note: you may need to restart the kernel to use updated packages.\n"
     ]
    }
   ],
   "source": [
    "%pip install gh-scoped-creds"
   ]
  },
  {
   "cell_type": "code",
   "execution_count": 4,
   "id": "4a4701b4-5ef7-42af-bc38-153f5f702ece",
   "metadata": {},
   "outputs": [
    {
     "name": "stderr",
     "output_type": "stream",
     "text": [
      "UsageError: Line magic function `%gh-scoped-creds` not found.\n"
     ]
    }
   ],
   "source": [
    "%gh-scoped-creds"
   ]
  },
  {
   "cell_type": "code",
   "execution_count": 5,
   "id": "8f597a71-3084-4c8f-bbeb-b07842976955",
   "metadata": {},
   "outputs": [
    {
     "ename": "NameError",
     "evalue": "name 'gh' is not defined",
     "output_type": "error",
     "traceback": [
      "\u001b[31m---------------------------------------------------------------------------\u001b[39m",
      "\u001b[31mNameError\u001b[39m                                 Traceback (most recent call last)",
      "\u001b[36mCell\u001b[39m\u001b[36m \u001b[39m\u001b[32mIn[5]\u001b[39m\u001b[32m, line 1\u001b[39m\n\u001b[32m----> \u001b[39m\u001b[32m1\u001b[39m \u001b[43mgh\u001b[49m-scoped-creds\n",
      "\u001b[31mNameError\u001b[39m: name 'gh' is not defined"
     ]
    }
   ],
   "source": [
    "gh-scoped-creds"
   ]
  },
  {
   "cell_type": "code",
   "execution_count": 6,
   "id": "5eca3e96-6338-4e92-85ec-fa5459be04e9",
   "metadata": {},
   "outputs": [
    {
     "name": "stderr",
     "output_type": "stream",
     "text": [
      "UsageError: Line magic function `%ghscopedcreds` not found.\n"
     ]
    }
   ],
   "source": [
    "%ghscopedcreds"
   ]
  },
  {
   "cell_type": "code",
   "execution_count": 8,
   "id": "067867e8-8bbd-4e2b-ae92-da1ab7049e8b",
   "metadata": {},
   "outputs": [],
   "source": [
    "import gh_scoped_creds"
   ]
  },
  {
   "cell_type": "code",
   "execution_count": 9,
   "id": "ef9b1a9b-d103-4fa5-a4ec-5c209b46d0dc",
   "metadata": {},
   "outputs": [
    {
     "name": "stderr",
     "output_type": "stream",
     "text": [
      "--client-id must be specified or GH_SCOPED_CREDS_CLIENT_ID environment variable must be set\n"
     ]
    },
    {
     "ename": "SystemExit",
     "evalue": "1",
     "output_type": "error",
     "traceback": [
      "An exception has occurred, use %tb to see the full traceback.\n",
      "\u001b[31mSystemExit\u001b[39m\u001b[31m:\u001b[39m 1\n"
     ]
    },
    {
     "name": "stderr",
     "output_type": "stream",
     "text": [
      "/Users/daniel/.virtualenvs/jupyterhub/lib/python3.13/site-packages/IPython/core/interactiveshell.py:3707: UserWarning: To exit: use 'exit', 'quit', or Ctrl-D.\n",
      "  warn(\"To exit: use 'exit', 'quit', or Ctrl-D.\", stacklevel=1)\n"
     ]
    }
   ],
   "source": [
    "%ghscopedcreds"
   ]
  },
  {
   "cell_type": "code",
   "execution_count": 2,
   "id": "bb9b4d75-273d-4189-a503-a9ef2bf6fe44",
   "metadata": {},
   "outputs": [
    {
     "name": "stderr",
     "output_type": "stream",
     "text": [
      "--client-id must be specified or GH_SCOPED_CREDS_CLIENT_ID environment variable must be set\n"
     ]
    },
    {
     "ename": "SystemExit",
     "evalue": "1",
     "output_type": "error",
     "traceback": [
      "An exception has occurred, use %tb to see the full traceback.\n",
      "\u001b[31mSystemExit\u001b[39m\u001b[31m:\u001b[39m 1\n"
     ]
    },
    {
     "name": "stderr",
     "output_type": "stream",
     "text": [
      "/Users/daniel/.virtualenvs/jupyterhub/lib/python3.13/site-packages/IPython/core/interactiveshell.py:3707: UserWarning: To exit: use 'exit', 'quit', or Ctrl-D.\n",
      "  warn(\"To exit: use 'exit', 'quit', or Ctrl-D.\", stacklevel=1)\n"
     ]
    }
   ],
   "source": [
    "%ghscopedcreds"
   ]
  },
  {
   "cell_type": "code",
   "execution_count": 3,
   "id": "3e474e22-9b2c-4c33-9fb5-50fe2bb7fe0e",
   "metadata": {},
   "outputs": [],
   "source": [
    "GH_SCOPED_CREDS_CLIENT_ID = 'Iv23liGJMiwFGfQA6jQE'"
   ]
  },
  {
   "cell_type": "code",
   "execution_count": 5,
   "id": "16c9c2a0-8c74-45c4-b2ae-3da896d0a866",
   "metadata": {},
   "outputs": [
    {
     "data": {
      "application/javascript": [
       "navigator.clipboard.writeText(\"F074-C5FD\");"
      ],
      "text/plain": [
       "<IPython.core.display.Javascript object>"
      ]
     },
     "metadata": {},
     "output_type": "display_data"
    },
    {
     "name": "stdout",
     "output_type": "stream",
     "text": [
      "The code F074-C5FD has been copied to your clipboard.\n",
      "You have 15 minutes to go to https://github.com/login/device and paste it there.\n",
      "\n",
      "Waiting........\n"
     ]
    },
    {
     "data": {
      "text/html": [
       "<p style=\"background-color:lightgreen;\">Success! Authentication will expire in 8.0 hours.<br /></p>"
      ],
      "text/plain": [
       "<IPython.core.display.HTML object>"
      ]
     },
     "metadata": {},
     "output_type": "display_data"
    },
    {
     "name": "stdout",
     "output_type": "stream",
     "text": [
      "Tip: Use https:// URLs to clone and push to repos, not ssh URLs!\n"
     ]
    }
   ],
   "source": [
    "%ghscopedcreds --client-id='Iv23liGJMiwFGfQA6jQE'"
   ]
  },
  {
   "cell_type": "code",
   "execution_count": 1,
   "id": "b6114059-7d68-4465-af7a-a109e4e64ee3",
   "metadata": {},
   "outputs": [
    {
     "name": "stdout",
     "output_type": "stream",
     "text": [
      "Requirement already satisfied: arrow in ./.virtualenvs/jupyterhub/lib/python3.13/site-packages (1.3.0)\n",
      "Requirement already satisfied: python-dateutil>=2.7.0 in ./.virtualenvs/jupyterhub/lib/python3.13/site-packages (from arrow) (2.9.0.post0)\n",
      "Requirement already satisfied: types-python-dateutil>=2.8.10 in ./.virtualenvs/jupyterhub/lib/python3.13/site-packages (from arrow) (2.9.0.20250708)\n",
      "Requirement already satisfied: six>=1.5 in ./.virtualenvs/jupyterhub/lib/python3.13/site-packages (from python-dateutil>=2.7.0->arrow) (1.17.0)\n",
      "\n",
      "\u001b[1m[\u001b[0m\u001b[34;49mnotice\u001b[0m\u001b[1;39;49m]\u001b[0m\u001b[39;49m A new release of pip is available: \u001b[0m\u001b[31;49m25.1.1\u001b[0m\u001b[39;49m -> \u001b[0m\u001b[32;49m25.2\u001b[0m\n",
      "\u001b[1m[\u001b[0m\u001b[34;49mnotice\u001b[0m\u001b[1;39;49m]\u001b[0m\u001b[39;49m To update, run: \u001b[0m\u001b[32;49mpip install --upgrade pip\u001b[0m\n",
      "Note: you may need to restart the kernel to use updated packages.\n"
     ]
    }
   ],
   "source": [
    "%pip install arrow"
   ]
  },
  {
   "cell_type": "code",
   "execution_count": null,
   "id": "bac0b7c0-78c5-449e-8809-ec94b1b47c48",
   "metadata": {},
   "outputs": [],
   "source": [
    "Making another change to test using settings and overrides instead of prompting the user for it."
   ]
  }
 ],
 "metadata": {
  "kernelspec": {
   "display_name": "Python 3 (ipykernel)",
   "language": "python",
   "name": "python3"
  },
  "language_info": {
   "codemirror_mode": {
    "name": "ipython",
    "version": 3
   },
   "file_extension": ".py",
   "mimetype": "text/x-python",
   "name": "python",
   "nbconvert_exporter": "python",
   "pygments_lexer": "ipython3",
   "version": "3.13.6"
  }
 },
 "nbformat": 4,
 "nbformat_minor": 5
}
